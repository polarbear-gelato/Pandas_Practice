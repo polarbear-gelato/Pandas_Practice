{
  "nbformat": 4,
  "nbformat_minor": 0,
  "metadata": {
    "colab": {
      "name": "Pandas Practice 3 - Grouping Alchol Data.ipynb",
      "provenance": [],
      "authorship_tag": "ABX9TyOAiEyhd3Cmv7sLly4D+GG/",
      "include_colab_link": true
    },
    "kernelspec": {
      "name": "python3",
      "display_name": "Python 3"
    },
    "language_info": {
      "name": "python"
    }
  },
  "cells": [
    {
      "cell_type": "markdown",
      "metadata": {
        "id": "view-in-github",
        "colab_type": "text"
      },
      "source": [
        "<a href=\"https://colab.research.google.com/github/polarbear-gelato/Pandas_Practice/blob/main/Pandas_Practice_3_Grouping_Alchol_Data.ipynb\" target=\"_parent\"><img src=\"https://colab.research.google.com/assets/colab-badge.svg\" alt=\"Open In Colab\"/></a>"
      ]
    },
    {
      "cell_type": "markdown",
      "metadata": {
        "id": "JnB8-tc5c9c9"
      },
      "source": [
        "original source: \n",
        "https://github.com/guipsamora/pandas_exercises/blob/master/03_Grouping/Alcohol_Consumption/Exercise_with_solutions.ipynb"
      ]
    },
    {
      "cell_type": "markdown",
      "metadata": {
        "id": "PC5ksfgydL5p"
      },
      "source": [
        "**Step 1. Import the necessary libraries**\n",
        "\n",
        "**Step 2. Import the dataset from this address.** \n",
        "\n",
        "**Step 3. Assign it to a variable called drinks.**\n",
        "\n",
        "https://raw.githubusercontent.com/justmarkham/DAT8/master/data/drinks.csv"
      ]
    },
    {
      "cell_type": "code",
      "metadata": {
        "colab": {
          "base_uri": "https://localhost:8080/",
          "height": 204
        },
        "id": "ATi-wXabc8EF",
        "outputId": "441d839d-42f5-4a15-d9f3-b37ef1607d55"
      },
      "source": [
        "import pandas as pd\n",
        "url = \"https://raw.githubusercontent.com/justmarkham/DAT8/master/data/drinks.csv\"\n",
        "drinks = pd.read_csv(url)\n",
        "drinks.head(5)"
      ],
      "execution_count": 1,
      "outputs": [
        {
          "output_type": "execute_result",
          "data": {
            "text/html": [
              "<div>\n",
              "<style scoped>\n",
              "    .dataframe tbody tr th:only-of-type {\n",
              "        vertical-align: middle;\n",
              "    }\n",
              "\n",
              "    .dataframe tbody tr th {\n",
              "        vertical-align: top;\n",
              "    }\n",
              "\n",
              "    .dataframe thead th {\n",
              "        text-align: right;\n",
              "    }\n",
              "</style>\n",
              "<table border=\"1\" class=\"dataframe\">\n",
              "  <thead>\n",
              "    <tr style=\"text-align: right;\">\n",
              "      <th></th>\n",
              "      <th>country</th>\n",
              "      <th>beer_servings</th>\n",
              "      <th>spirit_servings</th>\n",
              "      <th>wine_servings</th>\n",
              "      <th>total_litres_of_pure_alcohol</th>\n",
              "      <th>continent</th>\n",
              "    </tr>\n",
              "  </thead>\n",
              "  <tbody>\n",
              "    <tr>\n",
              "      <th>0</th>\n",
              "      <td>Afghanistan</td>\n",
              "      <td>0</td>\n",
              "      <td>0</td>\n",
              "      <td>0</td>\n",
              "      <td>0.0</td>\n",
              "      <td>AS</td>\n",
              "    </tr>\n",
              "    <tr>\n",
              "      <th>1</th>\n",
              "      <td>Albania</td>\n",
              "      <td>89</td>\n",
              "      <td>132</td>\n",
              "      <td>54</td>\n",
              "      <td>4.9</td>\n",
              "      <td>EU</td>\n",
              "    </tr>\n",
              "    <tr>\n",
              "      <th>2</th>\n",
              "      <td>Algeria</td>\n",
              "      <td>25</td>\n",
              "      <td>0</td>\n",
              "      <td>14</td>\n",
              "      <td>0.7</td>\n",
              "      <td>AF</td>\n",
              "    </tr>\n",
              "    <tr>\n",
              "      <th>3</th>\n",
              "      <td>Andorra</td>\n",
              "      <td>245</td>\n",
              "      <td>138</td>\n",
              "      <td>312</td>\n",
              "      <td>12.4</td>\n",
              "      <td>EU</td>\n",
              "    </tr>\n",
              "    <tr>\n",
              "      <th>4</th>\n",
              "      <td>Angola</td>\n",
              "      <td>217</td>\n",
              "      <td>57</td>\n",
              "      <td>45</td>\n",
              "      <td>5.9</td>\n",
              "      <td>AF</td>\n",
              "    </tr>\n",
              "  </tbody>\n",
              "</table>\n",
              "</div>"
            ],
            "text/plain": [
              "       country  beer_servings  ...  total_litres_of_pure_alcohol  continent\n",
              "0  Afghanistan              0  ...                           0.0         AS\n",
              "1      Albania             89  ...                           4.9         EU\n",
              "2      Algeria             25  ...                           0.7         AF\n",
              "3      Andorra            245  ...                          12.4         EU\n",
              "4       Angola            217  ...                           5.9         AF\n",
              "\n",
              "[5 rows x 6 columns]"
            ]
          },
          "metadata": {},
          "execution_count": 1
        }
      ]
    },
    {
      "cell_type": "markdown",
      "metadata": {
        "id": "37CZrBJVj7eC"
      },
      "source": [
        "**Step 4. Which continent drinks more beer on average?**"
      ]
    },
    {
      "cell_type": "code",
      "metadata": {
        "colab": {
          "base_uri": "https://localhost:8080/"
        },
        "id": "eQK51D28UtCW",
        "outputId": "ad87794c-67b0-4ec3-932f-cdafbec439bc"
      },
      "source": [
        "avg_beer = drinks.groupby('continent')['beer_servings'].mean().sort_values(ascending=False)\n",
        "print(avg_beer)"
      ],
      "execution_count": 7,
      "outputs": [
        {
          "output_type": "stream",
          "name": "stdout",
          "text": [
            "continent\n",
            "EU    193.777778\n",
            "SA    175.083333\n",
            "OC     89.687500\n",
            "AF     61.471698\n",
            "AS     37.045455\n",
            "Name: beer_servings, dtype: float64\n"
          ]
        }
      ]
    },
    {
      "cell_type": "markdown",
      "metadata": {
        "id": "I-XX-QUfVvFl"
      },
      "source": [
        "**Step 5. For each continent print the statistics for wine consumption.**"
      ]
    },
    {
      "cell_type": "code",
      "metadata": {
        "colab": {
          "base_uri": "https://localhost:8080/"
        },
        "id": "Ryu_W-AQV2Qu",
        "outputId": "bef55d2c-c947-4446-9e2c-7db8effef0df"
      },
      "source": [
        "wine_stats = drinks.groupby('continent')['wine_servings'].describe()\n",
        "print(wine_stats)"
      ],
      "execution_count": 8,
      "outputs": [
        {
          "output_type": "stream",
          "name": "stdout",
          "text": [
            "           count        mean        std  min   25%    50%     75%    max\n",
            "continent                                                               \n",
            "AF          53.0   16.264151  38.846419  0.0   1.0    2.0   13.00  233.0\n",
            "AS          44.0    9.068182  21.667034  0.0   0.0    1.0    8.00  123.0\n",
            "EU          45.0  142.222222  97.421738  0.0  59.0  128.0  195.00  370.0\n",
            "OC          16.0   35.625000  64.555790  0.0   1.0    8.5   23.25  212.0\n",
            "SA          12.0   62.416667  88.620189  1.0   3.0   12.0   98.50  221.0\n"
          ]
        }
      ]
    },
    {
      "cell_type": "markdown",
      "metadata": {
        "id": "rgIpxDuqf_Os"
      },
      "source": [
        "**Step 6. Print the mean alcohol consumption per continent for every column**"
      ]
    },
    {
      "cell_type": "code",
      "metadata": {
        "colab": {
          "base_uri": "https://localhost:8080/"
        },
        "id": "jHs-Hy5ugBqZ",
        "outputId": "2d1892e7-15ed-4a94-c9a0-6457e9c961aa"
      },
      "source": [
        "avg_consumption = drinks.groupby('continent').mean()\n",
        "print(avg_consumption)"
      ],
      "execution_count": 9,
      "outputs": [
        {
          "output_type": "stream",
          "name": "stdout",
          "text": [
            "           beer_servings  ...  total_litres_of_pure_alcohol\n",
            "continent                 ...                              \n",
            "AF             61.471698  ...                      3.007547\n",
            "AS             37.045455  ...                      2.170455\n",
            "EU            193.777778  ...                      8.617778\n",
            "OC             89.687500  ...                      3.381250\n",
            "SA            175.083333  ...                      6.308333\n",
            "\n",
            "[5 rows x 4 columns]\n"
          ]
        }
      ]
    },
    {
      "cell_type": "markdown",
      "metadata": {
        "id": "GVAFQk-7gZrp"
      },
      "source": [
        "**Step 7. Print the median alcohol consumption per continent for every column**"
      ]
    },
    {
      "cell_type": "code",
      "metadata": {
        "colab": {
          "base_uri": "https://localhost:8080/"
        },
        "id": "8iV-tYGega4o",
        "outputId": "3bc3764d-1160-400b-cf24-58c7c675a4fe"
      },
      "source": [
        "median_consumption = drinks.groupby('continent').median()\n",
        "print(median_consumption)"
      ],
      "execution_count": 10,
      "outputs": [
        {
          "output_type": "stream",
          "name": "stdout",
          "text": [
            "           beer_servings  ...  total_litres_of_pure_alcohol\n",
            "continent                 ...                              \n",
            "AF                  32.0  ...                          2.30\n",
            "AS                  17.5  ...                          1.20\n",
            "EU                 219.0  ...                         10.00\n",
            "OC                  52.5  ...                          1.75\n",
            "SA                 162.5  ...                          6.85\n",
            "\n",
            "[5 rows x 4 columns]\n"
          ]
        }
      ]
    },
    {
      "cell_type": "markdown",
      "metadata": {
        "id": "F56lyv-UgolX"
      },
      "source": [
        "**Step 8. Print the mean, min and max values for spirit consumption.**"
      ]
    },
    {
      "cell_type": "code",
      "metadata": {
        "colab": {
          "base_uri": "https://localhost:8080/"
        },
        "id": "tHRqp6ykgpza",
        "outputId": "82314951-bb83-40fa-ecc1-606a06557890"
      },
      "source": [
        "spirit_data = drinks.groupby('continent')['spirit_servings'].describe()\n",
        "print(spirit_data)"
      ],
      "execution_count": 11,
      "outputs": [
        {
          "output_type": "stream",
          "name": "stdout",
          "text": [
            "           count        mean        std   min    25%    50%     75%    max\n",
            "continent                                                                 \n",
            "AF          53.0   16.339623  28.102794   0.0   1.00    3.0   19.00  152.0\n",
            "AS          44.0   60.840909  84.362160   0.0   1.00   16.0   98.00  326.0\n",
            "EU          45.0  132.555556  77.589115   0.0  81.00  122.0  173.00  373.0\n",
            "OC          16.0   58.437500  70.504817   0.0  18.00   37.0   65.25  254.0\n",
            "SA          12.0  114.750000  77.077440  25.0  65.75  108.5  148.75  302.0\n"
          ]
        }
      ]
    },
    {
      "cell_type": "code",
      "metadata": {
        "colab": {
          "base_uri": "https://localhost:8080/"
        },
        "id": "HY9s66ChhJJO",
        "outputId": "0d9ebef1-e525-440e-f0e4-95f880fa0822"
      },
      "source": [
        "# another solution\n",
        "spirit_data2 = drinks.groupby('continent')['spirit_servings'].agg(['mean', 'min', 'max'])\n",
        "print(spirit_data2)"
      ],
      "execution_count": 12,
      "outputs": [
        {
          "output_type": "stream",
          "name": "stdout",
          "text": [
            "                 mean  min  max\n",
            "continent                      \n",
            "AF          16.339623    0  152\n",
            "AS          60.840909    0  326\n",
            "EU         132.555556    0  373\n",
            "OC          58.437500    0  254\n",
            "SA         114.750000   25  302\n"
          ]
        }
      ]
    }
  ]
}