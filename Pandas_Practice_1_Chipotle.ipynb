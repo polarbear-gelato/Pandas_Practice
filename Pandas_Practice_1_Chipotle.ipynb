{
  "nbformat": 4,
  "nbformat_minor": 0,
  "metadata": {
    "colab": {
      "name": "Pandas Practice 1 - Chipotle.ipynb",
      "provenance": [],
      "collapsed_sections": []
    },
    "kernelspec": {
      "name": "python3",
      "display_name": "Python 3"
    },
    "language_info": {
      "name": "python"
    }
  },
  "cells": [
    {
      "cell_type": "markdown",
      "metadata": {
        "id": "NZlnmQFjTLhQ"
      },
      "source": [
        "https://github.com/guipsamora/pandas_exercises/blob/master/01_Getting_%26_Knowing_Your_Data/Chipotle/Exercises.ipynb"
      ]
    },
    {
      "cell_type": "markdown",
      "metadata": {
        "id": "6Ng6an3oTNAk"
      },
      "source": [
        "**Step 1. Import the necessary libraries**"
      ]
    },
    {
      "cell_type": "code",
      "metadata": {
        "id": "maJyS7DG2IG9"
      },
      "source": [
        "import pip\n",
        "import numpy as np\n",
        "import pandas as pd"
      ],
      "execution_count": 66,
      "outputs": []
    },
    {
      "cell_type": "markdown",
      "metadata": {
        "id": "_IfnNunUTmss"
      },
      "source": [
        "**Step 2. Import the dataset from this address**\n",
        "https://raw.githubusercontent.com/justmarkham/DAT8/master/data/chipotle.tsv"
      ]
    },
    {
      "cell_type": "markdown",
      "metadata": {
        "id": "TcZUrpVAT0qa"
      },
      "source": [
        "**Step 3. Assign it to a variable called chipo.**\n",
        "**Step 4. See the first 10 entries**"
      ]
    },
    {
      "cell_type": "code",
      "metadata": {
        "colab": {
          "base_uri": "https://localhost:8080/",
          "height": 359
        },
        "id": "N-DYm-Mu4KnZ",
        "outputId": "c09d96c0-413d-4b1c-b92c-da608169a5ae"
      },
      "source": [
        "url = 'https://raw.githubusercontent.com/justmarkham/DAT8/master/data/chipotle.tsv'\n",
        "chipo = pd.read_csv(url, sep='\\t')\n",
        "chipo.head(10)"
      ],
      "execution_count": 67,
      "outputs": [
        {
          "output_type": "execute_result",
          "data": {
            "text/html": [
              "<div>\n",
              "<style scoped>\n",
              "    .dataframe tbody tr th:only-of-type {\n",
              "        vertical-align: middle;\n",
              "    }\n",
              "\n",
              "    .dataframe tbody tr th {\n",
              "        vertical-align: top;\n",
              "    }\n",
              "\n",
              "    .dataframe thead th {\n",
              "        text-align: right;\n",
              "    }\n",
              "</style>\n",
              "<table border=\"1\" class=\"dataframe\">\n",
              "  <thead>\n",
              "    <tr style=\"text-align: right;\">\n",
              "      <th></th>\n",
              "      <th>order_id</th>\n",
              "      <th>quantity</th>\n",
              "      <th>item_name</th>\n",
              "      <th>choice_description</th>\n",
              "      <th>item_price</th>\n",
              "    </tr>\n",
              "  </thead>\n",
              "  <tbody>\n",
              "    <tr>\n",
              "      <th>0</th>\n",
              "      <td>1</td>\n",
              "      <td>1</td>\n",
              "      <td>Chips and Fresh Tomato Salsa</td>\n",
              "      <td>NaN</td>\n",
              "      <td>$2.39</td>\n",
              "    </tr>\n",
              "    <tr>\n",
              "      <th>1</th>\n",
              "      <td>1</td>\n",
              "      <td>1</td>\n",
              "      <td>Izze</td>\n",
              "      <td>[Clementine]</td>\n",
              "      <td>$3.39</td>\n",
              "    </tr>\n",
              "    <tr>\n",
              "      <th>2</th>\n",
              "      <td>1</td>\n",
              "      <td>1</td>\n",
              "      <td>Nantucket Nectar</td>\n",
              "      <td>[Apple]</td>\n",
              "      <td>$3.39</td>\n",
              "    </tr>\n",
              "    <tr>\n",
              "      <th>3</th>\n",
              "      <td>1</td>\n",
              "      <td>1</td>\n",
              "      <td>Chips and Tomatillo-Green Chili Salsa</td>\n",
              "      <td>NaN</td>\n",
              "      <td>$2.39</td>\n",
              "    </tr>\n",
              "    <tr>\n",
              "      <th>4</th>\n",
              "      <td>2</td>\n",
              "      <td>2</td>\n",
              "      <td>Chicken Bowl</td>\n",
              "      <td>[Tomatillo-Red Chili Salsa (Hot), [Black Beans...</td>\n",
              "      <td>$16.98</td>\n",
              "    </tr>\n",
              "    <tr>\n",
              "      <th>5</th>\n",
              "      <td>3</td>\n",
              "      <td>1</td>\n",
              "      <td>Chicken Bowl</td>\n",
              "      <td>[Fresh Tomato Salsa (Mild), [Rice, Cheese, Sou...</td>\n",
              "      <td>$10.98</td>\n",
              "    </tr>\n",
              "    <tr>\n",
              "      <th>6</th>\n",
              "      <td>3</td>\n",
              "      <td>1</td>\n",
              "      <td>Side of Chips</td>\n",
              "      <td>NaN</td>\n",
              "      <td>$1.69</td>\n",
              "    </tr>\n",
              "    <tr>\n",
              "      <th>7</th>\n",
              "      <td>4</td>\n",
              "      <td>1</td>\n",
              "      <td>Steak Burrito</td>\n",
              "      <td>[Tomatillo Red Chili Salsa, [Fajita Vegetables...</td>\n",
              "      <td>$11.75</td>\n",
              "    </tr>\n",
              "    <tr>\n",
              "      <th>8</th>\n",
              "      <td>4</td>\n",
              "      <td>1</td>\n",
              "      <td>Steak Soft Tacos</td>\n",
              "      <td>[Tomatillo Green Chili Salsa, [Pinto Beans, Ch...</td>\n",
              "      <td>$9.25</td>\n",
              "    </tr>\n",
              "    <tr>\n",
              "      <th>9</th>\n",
              "      <td>5</td>\n",
              "      <td>1</td>\n",
              "      <td>Steak Burrito</td>\n",
              "      <td>[Fresh Tomato Salsa, [Rice, Black Beans, Pinto...</td>\n",
              "      <td>$9.25</td>\n",
              "    </tr>\n",
              "  </tbody>\n",
              "</table>\n",
              "</div>"
            ],
            "text/plain": [
              "   order_id  ...  item_price\n",
              "0         1  ...      $2.39 \n",
              "1         1  ...      $3.39 \n",
              "2         1  ...      $3.39 \n",
              "3         1  ...      $2.39 \n",
              "4         2  ...     $16.98 \n",
              "5         3  ...     $10.98 \n",
              "6         3  ...      $1.69 \n",
              "7         4  ...     $11.75 \n",
              "8         4  ...      $9.25 \n",
              "9         5  ...      $9.25 \n",
              "\n",
              "[10 rows x 5 columns]"
            ]
          },
          "metadata": {},
          "execution_count": 67
        }
      ]
    },
    {
      "cell_type": "markdown",
      "metadata": {
        "id": "nMvwmbkLUVzz"
      },
      "source": [
        "**Step 5. What is the number of observations in the dataset?**\n",
        "\n",
        "**Step 6. What is the number of columns in the dataset?¶**"
      ]
    },
    {
      "cell_type": "code",
      "metadata": {
        "colab": {
          "base_uri": "https://localhost:8080/"
        },
        "id": "y1LIytaU4nIQ",
        "outputId": "8e56acf7-3e26-4b91-c1a5-6206b0059a82"
      },
      "source": [
        "chipo.shape"
      ],
      "execution_count": 68,
      "outputs": [
        {
          "output_type": "execute_result",
          "data": {
            "text/plain": [
              "(4622, 5)"
            ]
          },
          "metadata": {},
          "execution_count": 68
        }
      ]
    },
    {
      "cell_type": "code",
      "metadata": {
        "colab": {
          "base_uri": "https://localhost:8080/"
        },
        "id": "ClnI8h3d4qxK",
        "outputId": "1de81b73-5c5e-4d7b-b28b-e3566898a092"
      },
      "source": [
        "chipo.info()"
      ],
      "execution_count": 69,
      "outputs": [
        {
          "output_type": "stream",
          "name": "stdout",
          "text": [
            "<class 'pandas.core.frame.DataFrame'>\n",
            "RangeIndex: 4622 entries, 0 to 4621\n",
            "Data columns (total 5 columns):\n",
            " #   Column              Non-Null Count  Dtype \n",
            "---  ------              --------------  ----- \n",
            " 0   order_id            4622 non-null   int64 \n",
            " 1   quantity            4622 non-null   int64 \n",
            " 2   item_name           4622 non-null   object\n",
            " 3   choice_description  3376 non-null   object\n",
            " 4   item_price          4622 non-null   object\n",
            "dtypes: int64(2), object(3)\n",
            "memory usage: 180.7+ KB\n"
          ]
        }
      ]
    },
    {
      "cell_type": "markdown",
      "metadata": {
        "id": "9KIzboIoUnSO"
      },
      "source": [
        "**Step 7. Print the name of all the columns.**"
      ]
    },
    {
      "cell_type": "code",
      "metadata": {
        "colab": {
          "base_uri": "https://localhost:8080/"
        },
        "id": "8ZfO7iLE4uUN",
        "outputId": "c7e2782e-dcad-4973-9966-080f19fb5443"
      },
      "source": [
        "chipo.columns"
      ],
      "execution_count": 70,
      "outputs": [
        {
          "output_type": "execute_result",
          "data": {
            "text/plain": [
              "Index(['order_id', 'quantity', 'item_name', 'choice_description',\n",
              "       'item_price'],\n",
              "      dtype='object')"
            ]
          },
          "metadata": {},
          "execution_count": 70
        }
      ]
    },
    {
      "cell_type": "markdown",
      "metadata": {
        "id": "ORtyBiPJU7o1"
      },
      "source": [
        "**Step 8. How is the dataset indexed?**"
      ]
    },
    {
      "cell_type": "code",
      "metadata": {
        "colab": {
          "base_uri": "https://localhost:8080/"
        },
        "id": "-fRImJg045S2",
        "outputId": "6da26a92-c65d-412f-d585-94214b70523d"
      },
      "source": [
        "chipo.index"
      ],
      "execution_count": 71,
      "outputs": [
        {
          "output_type": "execute_result",
          "data": {
            "text/plain": [
              "RangeIndex(start=0, stop=4622, step=1)"
            ]
          },
          "metadata": {},
          "execution_count": 71
        }
      ]
    },
    {
      "cell_type": "markdown",
      "metadata": {
        "id": "vRYr9UhsVCCI"
      },
      "source": [
        "**Step 9. Which was the most-ordered item?**"
      ]
    },
    {
      "cell_type": "code",
      "metadata": {
        "colab": {
          "base_uri": "https://localhost:8080/"
        },
        "id": "86WuDuFS47-X",
        "outputId": "5456c290-78be-41bf-d76f-466b4204d6b2"
      },
      "source": [
        "# solution 1\n",
        "a = chipo.groupby('item_name')['quantity'].sum()\n",
        "print(a.head(5))"
      ],
      "execution_count": 72,
      "outputs": [
        {
          "output_type": "stream",
          "name": "stdout",
          "text": [
            "item_name\n",
            "6 Pack Soft Drink        55\n",
            "Barbacoa Bowl            66\n",
            "Barbacoa Burrito         91\n",
            "Barbacoa Crispy Tacos    12\n",
            "Barbacoa Salad Bowl      10\n",
            "Name: quantity, dtype: int64\n"
          ]
        }
      ]
    },
    {
      "cell_type": "code",
      "metadata": {
        "colab": {
          "base_uri": "https://localhost:8080/"
        },
        "id": "8DpuWLgh6z6R",
        "outputId": "2ec4c7e2-d86d-4f30-9246-cfc8b3f16fa7"
      },
      "source": [
        "# solution 2\n",
        "b = chipo.groupby('item_name').sum()\n",
        "print(b.head(5))"
      ],
      "execution_count": 73,
      "outputs": [
        {
          "output_type": "stream",
          "name": "stdout",
          "text": [
            "                       order_id  quantity\n",
            "item_name                                \n",
            "6 Pack Soft Drink         52322        55\n",
            "Barbacoa Bowl             53972        66\n",
            "Barbacoa Burrito          74718        91\n",
            "Barbacoa Crispy Tacos      5613        12\n",
            "Barbacoa Salad Bowl        9708        10\n"
          ]
        }
      ]
    },
    {
      "cell_type": "code",
      "metadata": {
        "colab": {
          "base_uri": "https://localhost:8080/"
        },
        "id": "Y07Gcp-oNUZI",
        "outputId": "96131c61-c6d7-44af-fe57-5eedb9b4b99c"
      },
      "source": [
        "# solution 2, if adding \"sort=True\", it'll sort by the groupby column\n",
        "c = chipo.groupby([\"item_name\"], sort=True).sum()\n",
        "print(c.head(8))"
      ],
      "execution_count": 74,
      "outputs": [
        {
          "output_type": "stream",
          "name": "stdout",
          "text": [
            "                       order_id  quantity\n",
            "item_name                                \n",
            "6 Pack Soft Drink         52322        55\n",
            "Barbacoa Bowl             53972        66\n",
            "Barbacoa Burrito          74718        91\n",
            "Barbacoa Crispy Tacos      5613        12\n",
            "Barbacoa Salad Bowl        9708        10\n",
            "Barbacoa Soft Tacos       18725        25\n",
            "Bottled Water            175944       211\n",
            "Bowl                        472         4\n"
          ]
        }
      ]
    },
    {
      "cell_type": "markdown",
      "metadata": {
        "id": "3KIttSnOV98u"
      },
      "source": [
        "**Step 10. For the most-ordered item, how many items were ordered?**"
      ]
    },
    {
      "cell_type": "code",
      "metadata": {
        "colab": {
          "base_uri": "https://localhost:8080/"
        },
        "id": "JFk6rkEMSQYp",
        "outputId": "a8aebdf7-cabe-47b7-8f0a-301ae483e495"
      },
      "source": [
        "# sort by quantity in descending order, get the most ordered item\n",
        "c = c.sort_values(['quantity'], ascending=False)\n",
        "print(c.head(1))"
      ],
      "execution_count": 75,
      "outputs": [
        {
          "output_type": "stream",
          "name": "stdout",
          "text": [
            "              order_id  quantity\n",
            "item_name                       \n",
            "Chicken Bowl    713926       761\n"
          ]
        }
      ]
    },
    {
      "cell_type": "markdown",
      "metadata": {
        "id": "mTLcXUzBWAa1"
      },
      "source": [
        "**Step 11. What was the most ordered item in the choice_description column?**"
      ]
    },
    {
      "cell_type": "code",
      "metadata": {
        "colab": {
          "base_uri": "https://localhost:8080/"
        },
        "id": "JUf13CorSagJ",
        "outputId": "23daad4f-f99d-4cbc-e529-aa0abfb2751d"
      },
      "source": [
        "desc = chipo.groupby('choice_description').sum()\n",
        "desc = desc.sort_values('quantity', ascending=False)\n",
        "print(desc.head(1))"
      ],
      "execution_count": 76,
      "outputs": [
        {
          "output_type": "stream",
          "name": "stdout",
          "text": [
            "                    order_id  quantity\n",
            "choice_description                    \n",
            "[Diet Coke]           123455       159\n"
          ]
        }
      ]
    },
    {
      "cell_type": "markdown",
      "metadata": {
        "id": "jIzKsL_wWPAc"
      },
      "source": [
        "**Step 12. How many items were orderd in total?**"
      ]
    },
    {
      "cell_type": "code",
      "metadata": {
        "colab": {
          "base_uri": "https://localhost:8080/"
        },
        "id": "779kvab9SsxM",
        "outputId": "1d9edfe0-90db-4b81-bca2-fc7c5132f0b5"
      },
      "source": [
        "total_item_number = chipo['quantity'].sum()\n",
        "total_item_number"
      ],
      "execution_count": 77,
      "outputs": [
        {
          "output_type": "execute_result",
          "data": {
            "text/plain": [
              "4972"
            ]
          },
          "metadata": {},
          "execution_count": 77
        }
      ]
    },
    {
      "cell_type": "markdown",
      "metadata": {
        "id": "87PIswJEWind"
      },
      "source": [
        "**Step 13. Turn the item price into a float**"
      ]
    },
    {
      "cell_type": "code",
      "metadata": {
        "colab": {
          "base_uri": "https://localhost:8080/"
        },
        "id": "yL1wMe6sbIe7",
        "outputId": "ae376d67-f3ac-4035-fb94-274d24aca551"
      },
      "source": [
        "chipo.dtypes"
      ],
      "execution_count": 78,
      "outputs": [
        {
          "output_type": "execute_result",
          "data": {
            "text/plain": [
              "order_id               int64\n",
              "quantity               int64\n",
              "item_name             object\n",
              "choice_description    object\n",
              "item_price            object\n",
              "dtype: object"
            ]
          },
          "metadata": {},
          "execution_count": 78
        }
      ]
    },
    {
      "cell_type": "code",
      "metadata": {
        "colab": {
          "base_uri": "https://localhost:8080/"
        },
        "id": "FQ0YgHePWj0-",
        "outputId": "1c6c124c-11db-44e3-fdcb-03fb06d203bf"
      },
      "source": [
        "# solution 1 not working: chipo['item_price'] = chipo['item_price'].astype(float, errors = 'raise')\n",
        "# solution 2 not working: chipo['item_price']= pd.to_numeric(chipo['item_price'],errors = 'coerce')\n",
        "# solution 3:\n",
        "dollarizer = lambda x: float(x[1:-1])\n",
        "chipo.item_price = chipo.item_price.apply(dollarizer)\n",
        "print(chipo.head(5))"
      ],
      "execution_count": 82,
      "outputs": [
        {
          "output_type": "stream",
          "name": "stdout",
          "text": [
            "   order_id  ...  item_price\n",
            "0         1  ...        2.39\n",
            "1         1  ...        3.39\n",
            "2         1  ...        3.39\n",
            "3         1  ...        2.39\n",
            "4         2  ...       16.98\n",
            "\n",
            "[5 rows x 5 columns]\n"
          ]
        }
      ]
    },
    {
      "cell_type": "code",
      "metadata": {
        "colab": {
          "base_uri": "https://localhost:8080/"
        },
        "id": "K9PlHel74Rcm",
        "outputId": "c568cd4a-8754-412c-8798-84a48ab4419d"
      },
      "source": [
        "chipo.dtypes"
      ],
      "execution_count": 83,
      "outputs": [
        {
          "output_type": "execute_result",
          "data": {
            "text/plain": [
              "order_id                int64\n",
              "quantity                int64\n",
              "item_name              object\n",
              "choice_description     object\n",
              "item_price            float64\n",
              "dtype: object"
            ]
          },
          "metadata": {},
          "execution_count": 83
        }
      ]
    },
    {
      "cell_type": "markdown",
      "metadata": {
        "id": "A4_BrP294cq-"
      },
      "source": [
        "**Step 14. How much was the revenue for the period in the dataset?**"
      ]
    },
    {
      "cell_type": "code",
      "metadata": {
        "colab": {
          "base_uri": "https://localhost:8080/"
        },
        "id": "zyw-ZyBl4WE2",
        "outputId": "cf599129-b39f-4dff-b8de-91597f6e7fa7"
      },
      "source": [
        "chipo['revenue'] = chipo['quantity']*chipo['item_price']\n",
        "total_revenue = chipo['revenue'].sum()\n",
        "#print(\"Total revenue was $\"+ str(np.round(total_revenue,2)))\n",
        "print(\"Total revenue was $\"+ str(total_revenue))"
      ],
      "execution_count": 92,
      "outputs": [
        {
          "output_type": "stream",
          "name": "stdout",
          "text": [
            "Total revenue was $39237.02\n"
          ]
        }
      ]
    },
    {
      "cell_type": "markdown",
      "metadata": {
        "id": "nSRSuc096CLX"
      },
      "source": [
        "**Step 15. How many orders were made in the period?**"
      ]
    },
    {
      "cell_type": "code",
      "metadata": {
        "colab": {
          "base_uri": "https://localhost:8080/"
        },
        "id": "oqkNaRvt6DoC",
        "outputId": "23f24783-6e81-4c3f-a7c6-ab7f498506c6"
      },
      "source": [
        "# return counts for each order: total_order = chipo[\"order_id\"].value_counts(normalize=True)\n",
        "# return percentage for each order: total_order = chipo[\"order_id\"].value_counts(normalize=False)\n",
        "total_order = chipo['order_id'].value_counts().count()\n",
        "print(\"Total order was \" + str(total_order))"
      ],
      "execution_count": 99,
      "outputs": [
        {
          "output_type": "stream",
          "name": "stdout",
          "text": [
            "Total order was 1834\n"
          ]
        }
      ]
    },
    {
      "cell_type": "markdown",
      "metadata": {
        "id": "4IWJlN8q8AZi"
      },
      "source": [
        "**Step 16. What is the average revenue amount per order?**"
      ]
    },
    {
      "cell_type": "code",
      "metadata": {
        "colab": {
          "base_uri": "https://localhost:8080/"
        },
        "id": "WZfGYTm28Brt",
        "outputId": "043f6a71-1379-489b-bb41-18fee0b581b0"
      },
      "source": [
        "chipo['total_rev_per_order'] = chipo.groupby('order_id')['revenue'].sum()\n",
        "print(\"Average revenue per order was $\" + str(np.round(chipo['total_rev_per_order'].mean(),2)))"
      ],
      "execution_count": 107,
      "outputs": [
        {
          "output_type": "stream",
          "name": "stdout",
          "text": [
            "Average revenue per order was $21.39\n"
          ]
        }
      ]
    },
    {
      "cell_type": "code",
      "metadata": {
        "colab": {
          "base_uri": "https://localhost:8080/"
        },
        "id": "tSIiE8_v92F8",
        "outputId": "288e4736-bc3f-46d9-b2f3-c54686d6f2bc"
      },
      "source": [
        "# solution 2\n",
        "chipo.groupby(by=['order_id']).sum().mean()['revenue']"
      ],
      "execution_count": 108,
      "outputs": [
        {
          "output_type": "execute_result",
          "data": {
            "text/plain": [
              "21.394231188658654"
            ]
          },
          "metadata": {},
          "execution_count": 108
        }
      ]
    },
    {
      "cell_type": "markdown",
      "metadata": {
        "id": "kiX0pvti97Yg"
      },
      "source": [
        "**Step 17. How many different items are sold?**"
      ]
    },
    {
      "cell_type": "code",
      "metadata": {
        "colab": {
          "base_uri": "https://localhost:8080/"
        },
        "id": "_yS0Bxhy9-4B",
        "outputId": "ae722ee5-7fef-42ed-975c-071888bda5cb"
      },
      "source": [
        "distinct_item = chipo['item_name'].drop_duplicates()\n",
        "print(\"Total different item number was \" + str(distinct_item.count()))"
      ],
      "execution_count": 109,
      "outputs": [
        {
          "output_type": "stream",
          "name": "stdout",
          "text": [
            "Total different item number was 50\n"
          ]
        }
      ]
    },
    {
      "cell_type": "code",
      "metadata": {
        "colab": {
          "base_uri": "https://localhost:8080/"
        },
        "id": "SXinlMHk-a3O",
        "outputId": "454d5d04-43fe-429d-942a-b245130c8638"
      },
      "source": [
        "# solution 2\n",
        "chipo.item_name.value_counts().count()"
      ],
      "execution_count": 110,
      "outputs": [
        {
          "output_type": "execute_result",
          "data": {
            "text/plain": [
              "50"
            ]
          },
          "metadata": {},
          "execution_count": 110
        }
      ]
    }
  ]
}