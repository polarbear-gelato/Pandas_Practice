{
  "nbformat": 4,
  "nbformat_minor": 0,
  "metadata": {
    "colab": {
      "name": "Pandas Practice 2 - Filtering Chipotle Data.ipynb",
      "provenance": [],
      "authorship_tag": "ABX9TyOkGPwogqZFFwOvoVCQ3DKZ",
      "include_colab_link": true
    },
    "kernelspec": {
      "name": "python3",
      "display_name": "Python 3"
    },
    "language_info": {
      "name": "python"
    }
  },
  "cells": [
    {
      "cell_type": "markdown",
      "metadata": {
        "id": "view-in-github",
        "colab_type": "text"
      },
      "source": [
        "<a href=\"https://colab.research.google.com/github/polarbear-gelato/Pandas_Practice/blob/main/Pandas_Practice_2_Filtering_Chipotle_Data.ipynb\" target=\"_parent\"><img src=\"https://colab.research.google.com/assets/colab-badge.svg\" alt=\"Open In Colab\"/></a>"
      ]
    },
    {
      "cell_type": "markdown",
      "metadata": {
        "id": "kk-geX5ArLzC"
      },
      "source": [
        "Original source: https://github.com/guipsamora/pandas_exercises/blob/master/02_Filtering_%26_Sorting/Chipotle/Exercises.ipynb"
      ]
    },
    {
      "cell_type": "markdown",
      "metadata": {
        "id": "xYANriVv4dii"
      },
      "source": [
        "**Step 1. Import the necessary libraries**"
      ]
    },
    {
      "cell_type": "code",
      "metadata": {
        "id": "-ImOCh0-4odi"
      },
      "source": [
        "import pip\n",
        "import numpy as np\n",
        "import pandas as pd"
      ],
      "execution_count": 1,
      "outputs": []
    },
    {
      "cell_type": "markdown",
      "metadata": {
        "id": "WOWBz72T4u5o"
      },
      "source": [
        "**Step 2. Import the dataset from this address.**\n",
        "https://raw.githubusercontent.com/justmarkham/DAT8/master/data/chipotle.tsv \n",
        "\n",
        "**Step 3. Assign it to a variable called chipo.**"
      ]
    },
    {
      "cell_type": "code",
      "metadata": {
        "colab": {
          "base_uri": "https://localhost:8080/"
        },
        "id": "qS1qg6gbrHgH",
        "outputId": "ae06c0f8-e53d-4e21-b11f-77208fe0b4a6"
      },
      "source": [
        "url = \"https://raw.githubusercontent.com/justmarkham/DAT8/master/data/chipotle.tsv\"\n",
        "chipo = pd.read_csv(url, sep='\\t')\n",
        "print(chipo.head(10))"
      ],
      "execution_count": 2,
      "outputs": [
        {
          "output_type": "stream",
          "name": "stdout",
          "text": [
            "   order_id  ...  item_price\n",
            "0         1  ...      $2.39 \n",
            "1         1  ...      $3.39 \n",
            "2         1  ...      $3.39 \n",
            "3         1  ...      $2.39 \n",
            "4         2  ...     $16.98 \n",
            "5         3  ...     $10.98 \n",
            "6         3  ...      $1.69 \n",
            "7         4  ...     $11.75 \n",
            "8         4  ...      $9.25 \n",
            "9         5  ...      $9.25 \n",
            "\n",
            "[10 rows x 5 columns]\n"
          ]
        }
      ]
    },
    {
      "cell_type": "markdown",
      "metadata": {
        "id": "3I-YEy0V-r2T"
      },
      "source": [
        "**Step 4. Check the dataset and change price data type**"
      ]
    },
    {
      "cell_type": "code",
      "metadata": {
        "colab": {
          "base_uri": "https://localhost:8080/"
        },
        "id": "8X6J4SYi5lZq",
        "outputId": "51697aed-5030-4486-a080-d250600a1259"
      },
      "source": [
        "print(chipo.columns)"
      ],
      "execution_count": 4,
      "outputs": [
        {
          "output_type": "stream",
          "name": "stdout",
          "text": [
            "Index(['order_id', 'quantity', 'item_name', 'choice_description',\n",
            "       'item_price'],\n",
            "      dtype='object')\n"
          ]
        }
      ]
    },
    {
      "cell_type": "code",
      "metadata": {
        "colab": {
          "base_uri": "https://localhost:8080/"
        },
        "id": "8M5tNbIA5uVm",
        "outputId": "4273ffc6-94e9-4f4a-91a6-364190c97513"
      },
      "source": [
        "print(chipo.info())"
      ],
      "execution_count": 5,
      "outputs": [
        {
          "output_type": "stream",
          "name": "stdout",
          "text": [
            "<class 'pandas.core.frame.DataFrame'>\n",
            "RangeIndex: 4622 entries, 0 to 4621\n",
            "Data columns (total 5 columns):\n",
            " #   Column              Non-Null Count  Dtype \n",
            "---  ------              --------------  ----- \n",
            " 0   order_id            4622 non-null   int64 \n",
            " 1   quantity            4622 non-null   int64 \n",
            " 2   item_name           4622 non-null   object\n",
            " 3   choice_description  3376 non-null   object\n",
            " 4   item_price          4622 non-null   object\n",
            "dtypes: int64(2), object(3)\n",
            "memory usage: 180.7+ KB\n",
            "None\n"
          ]
        }
      ]
    },
    {
      "cell_type": "code",
      "metadata": {
        "colab": {
          "base_uri": "https://localhost:8080/"
        },
        "id": "bfxawHZI9-od",
        "outputId": "90a55602-2fd2-4986-cb35-8d7c96738ac2"
      },
      "source": [
        "# Change the price data type\n",
        "dollarizer = lambda x: float(x[1:-1])\n",
        "chipo.item_price = chipo.item_price.apply(dollarizer)\n",
        "print(chipo.info())"
      ],
      "execution_count": 6,
      "outputs": [
        {
          "output_type": "stream",
          "name": "stdout",
          "text": [
            "<class 'pandas.core.frame.DataFrame'>\n",
            "RangeIndex: 4622 entries, 0 to 4621\n",
            "Data columns (total 5 columns):\n",
            " #   Column              Non-Null Count  Dtype  \n",
            "---  ------              --------------  -----  \n",
            " 0   order_id            4622 non-null   int64  \n",
            " 1   quantity            4622 non-null   int64  \n",
            " 2   item_name           4622 non-null   object \n",
            " 3   choice_description  3376 non-null   object \n",
            " 4   item_price          4622 non-null   float64\n",
            "dtypes: float64(1), int64(2), object(2)\n",
            "memory usage: 180.7+ KB\n",
            "None\n"
          ]
        }
      ]
    },
    {
      "cell_type": "code",
      "metadata": {
        "colab": {
          "base_uri": "https://localhost:8080/"
        },
        "id": "qS2mw265-I6A",
        "outputId": "6741a47f-c6f0-48cd-c9eb-70fb82fc0327"
      },
      "source": [
        "print(chipo.head(5))"
      ],
      "execution_count": 7,
      "outputs": [
        {
          "output_type": "stream",
          "name": "stdout",
          "text": [
            "   order_id  ...  item_price\n",
            "0         1  ...        2.39\n",
            "1         1  ...        3.39\n",
            "2         1  ...        3.39\n",
            "3         1  ...        2.39\n",
            "4         2  ...       16.98\n",
            "\n",
            "[5 rows x 5 columns]\n"
          ]
        }
      ]
    },
    {
      "cell_type": "markdown",
      "metadata": {
        "id": "RaoDz2nh-0wY"
      },
      "source": [
        "**Step 5. What is the price of each item?**"
      ]
    },
    {
      "cell_type": "code",
      "metadata": {
        "colab": {
          "base_uri": "https://localhost:8080/"
        },
        "id": "C2Z6VG2--Otj",
        "outputId": "1b1ca704-10fa-4336-8b5d-7ab6dc52d220"
      },
      "source": [
        "# Get a new dataset with only item_name and price, delete all duplicates by the two columns\n",
        "item_price = chipo[['item_name', 'item_price']].drop_duplicates()\n",
        "print(item_price)"
      ],
      "execution_count": 14,
      "outputs": [
        {
          "output_type": "stream",
          "name": "stdout",
          "text": [
            "                                  item_name  item_price\n",
            "0              Chips and Fresh Tomato Salsa        2.39\n",
            "1                                      Izze        3.39\n",
            "2                          Nantucket Nectar        3.39\n",
            "3     Chips and Tomatillo-Green Chili Salsa        2.39\n",
            "4                              Chicken Bowl       16.98\n",
            "...                                     ...         ...\n",
            "4237                    Chips and Guacamole        8.50\n",
            "4354                       Steak Soft Tacos       18.50\n",
            "4489                    Chips and Guacamole       17.80\n",
            "4509                                  Chips        1.99\n",
            "4510                          Barbacoa Bowl       11.49\n",
            "\n",
            "[209 rows x 2 columns]\n"
          ]
        }
      ]
    },
    {
      "cell_type": "markdown",
      "metadata": {
        "id": "AOscuu53_d2V"
      },
      "source": [
        "**Step 6. Sort by the name of the item**"
      ]
    },
    {
      "cell_type": "code",
      "metadata": {
        "colab": {
          "base_uri": "https://localhost:8080/"
        },
        "id": "8-iQmiSM_fdA",
        "outputId": "f62554f8-ac2c-447d-b57d-bfbff9a50b4a"
      },
      "source": [
        "item_price2 = item_price.sort_values(by='item_name')\n",
        "print(item_price2)"
      ],
      "execution_count": 9,
      "outputs": [
        {
          "output_type": "stream",
          "name": "stdout",
          "text": [
            "              item_name  item_price\n",
            "3389  6 Pack Soft Drink       12.98\n",
            "298   6 Pack Soft Drink        6.49\n",
            "4510      Barbacoa Bowl       11.49\n",
            "3195      Barbacoa Bowl        8.69\n",
            "95        Barbacoa Bowl        9.25\n",
            "...                 ...         ...\n",
            "186   Veggie Salad Bowl       11.25\n",
            "3889  Veggie Soft Tacos       16.98\n",
            "738   Veggie Soft Tacos       11.25\n",
            "781   Veggie Soft Tacos        8.75\n",
            "1395  Veggie Soft Tacos        8.49\n",
            "\n",
            "[209 rows x 2 columns]\n"
          ]
        }
      ]
    },
    {
      "cell_type": "markdown",
      "metadata": {
        "id": "zoYkIgOZGGGb"
      },
      "source": [
        "**Step 7. What was the quantity of the most expensive item ordered?**"
      ]
    },
    {
      "cell_type": "code",
      "metadata": {
        "colab": {
          "base_uri": "https://localhost:8080/"
        },
        "id": "G5300iIQGDka",
        "outputId": "ff7fb27d-43bd-43f4-bc80-1317f055ffca"
      },
      "source": [
        "# Get the most expensive item name\n",
        "item_price3 = item_price.sort_values(by='item_price', ascending=False)\n",
        "top_item = item_price3.head(1)\n",
        "top_item_name = top_item['item_name'].to_list()\n",
        "print(top_item_name)"
      ],
      "execution_count": 20,
      "outputs": [
        {
          "output_type": "stream",
          "name": "stdout",
          "text": [
            "['Chips and Fresh Tomato Salsa']\n"
          ]
        }
      ]
    },
    {
      "cell_type": "code",
      "metadata": {
        "colab": {
          "base_uri": "https://localhost:8080/"
        },
        "id": "0EZJJH5xH4x0",
        "outputId": "34f4940d-1c32-4003-a7d4-5ed5b9a7679f"
      },
      "source": [
        "# Get the quantity of top item\n",
        "top_item_qty = chipo[chipo['item_name'].isin(top_item_name)]\n",
        "print(\"The quantity of the most expensive item ordered was \" + str(np.round(top_item_qty['quantity'].sum(),2)))"
      ],
      "execution_count": 23,
      "outputs": [
        {
          "output_type": "stream",
          "name": "stdout",
          "text": [
            "The quantity of the most expensive item ordered was 130\n"
          ]
        }
      ]
    },
    {
      "cell_type": "code",
      "metadata": {
        "colab": {
          "base_uri": "https://localhost:8080/"
        },
        "id": "g6C1YgP0JdXu",
        "outputId": "a864eca6-61a1-403a-c188-e5960f158222"
      },
      "source": [
        "test = chipo[chipo['item_name'].isin(top_item_name)]\n",
        "print(test)"
      ],
      "execution_count": 24,
      "outputs": [
        {
          "output_type": "stream",
          "name": "stdout",
          "text": [
            "      order_id  quantity  ... choice_description item_price\n",
            "0            1         1  ...                NaN       2.39\n",
            "25          13         1  ...                NaN       2.39\n",
            "55          25         1  ...                NaN       2.39\n",
            "89          39         1  ...                NaN       2.95\n",
            "183         82         1  ...                NaN       2.95\n",
            "...        ...       ...  ...                ...        ...\n",
            "4231      1689         1  ...                NaN       2.95\n",
            "4318      1722         1  ...                NaN       2.95\n",
            "4324      1725         1  ...                NaN       2.95\n",
            "4425      1764         1  ...                NaN       2.95\n",
            "4503      1790         1  ...                NaN       2.95\n",
            "\n",
            "[110 rows x 5 columns]\n"
          ]
        }
      ]
    },
    {
      "cell_type": "markdown",
      "metadata": {
        "id": "McgT0FGpJtdF"
      },
      "source": [
        "**Step 8. How many times was a Veggie Salad Bowl ordered?**"
      ]
    },
    {
      "cell_type": "code",
      "metadata": {
        "colab": {
          "base_uri": "https://localhost:8080/"
        },
        "id": "Bx4ZZlbLJuza",
        "outputId": "fb858364-77d5-46a0-b8c8-1870ddc342a8"
      },
      "source": [
        "# get the dataframe of Veggie Salad Bowl\n",
        "vsb1 = chipo[chipo['item_name']=='Veggie Salad Bowl'].drop_duplicates(subset=['order_id'])\n",
        "print(vsb1)"
      ],
      "execution_count": 28,
      "outputs": [
        {
          "output_type": "stream",
          "name": "stdout",
          "text": [
            "      order_id  ...  item_price\n",
            "186         83  ...       11.25\n",
            "295        128  ...       11.25\n",
            "455        195  ...       11.25\n",
            "496        207  ...       11.25\n",
            "960        394  ...        8.75\n",
            "1316       536  ...        8.75\n",
            "1884       760  ...       11.25\n",
            "2156       869  ...       11.25\n",
            "2223       896  ...        8.75\n",
            "2269       913  ...        8.75\n",
            "2683      1066  ...        8.75\n",
            "3223      1289  ...       11.25\n",
            "3293      1321  ...        8.75\n",
            "4109      1646  ...       11.25\n",
            "4201      1677  ...       11.25\n",
            "4261      1700  ...       11.25\n",
            "4541      1805  ...        8.75\n",
            "4573      1818  ...        8.75\n",
            "\n",
            "[18 rows x 5 columns]\n"
          ]
        }
      ]
    },
    {
      "cell_type": "code",
      "metadata": {
        "colab": {
          "base_uri": "https://localhost:8080/"
        },
        "id": "hrlNwCHkKYLp",
        "outputId": "c9ab06da-ed32-44c6-8e7c-1b9d985e456c"
      },
      "source": [
        "# get the count of orders\n",
        "print('The Veggie Salad Bowl was ordered ' + str(len(vsb1)) + \" times\")"
      ],
      "execution_count": 30,
      "outputs": [
        {
          "output_type": "stream",
          "name": "stdout",
          "text": [
            "The Veggie Salad Bowl was ordered 18 times\n"
          ]
        }
      ]
    },
    {
      "cell_type": "markdown",
      "metadata": {
        "id": "ASpR37odK1Bw"
      },
      "source": [
        "**Step 9. How many times did someone order more than one Canned Soda?**"
      ]
    },
    {
      "cell_type": "code",
      "metadata": {
        "colab": {
          "base_uri": "https://localhost:8080/"
        },
        "id": "YGQ2zSfzK1__",
        "outputId": "5790bc81-2995-4222-faae-46503513a476"
      },
      "source": [
        "# get the dataframe of that Canned Soda was ordered more than 1\n",
        "cs = chipo[(chipo['item_name']=='Canned Soda') & ( chipo['quantity'] > 1)]\n",
        "print(cs)"
      ],
      "execution_count": 31,
      "outputs": [
        {
          "output_type": "stream",
          "name": "stdout",
          "text": [
            "      order_id  quantity    item_name choice_description  item_price\n",
            "18           9         2  Canned Soda           [Sprite]        2.18\n",
            "51          23         2  Canned Soda     [Mountain Dew]        2.18\n",
            "162         73         2  Canned Soda        [Diet Coke]        2.18\n",
            "171         76         2  Canned Soda  [Diet Dr. Pepper]        2.18\n",
            "350        150         2  Canned Soda        [Diet Coke]        2.18\n",
            "352        151         2  Canned Soda        [Coca Cola]        2.18\n",
            "698        287         2  Canned Soda        [Coca Cola]        2.18\n",
            "700        288         2  Canned Soda        [Coca Cola]        2.18\n",
            "909        376         2  Canned Soda     [Mountain Dew]        2.18\n",
            "1091       450         2  Canned Soda       [Dr. Pepper]        2.18\n",
            "1092       450         2  Canned Soda        [Coca Cola]        2.18\n",
            "1944       787         2  Canned Soda       [Dr. Pepper]        2.18\n",
            "2135       859         2  Canned Soda        [Diet Coke]        2.18\n",
            "2235       901         4  Canned Soda           [Sprite]        4.36\n",
            "2905      1156         2  Canned Soda        [Coca Cola]        2.18\n",
            "2906      1156         2  Canned Soda           [Sprite]        2.18\n",
            "3152      1258         2  Canned Soda       [Dr. Pepper]        2.18\n",
            "3364      1349         2  Canned Soda        [Coca Cola]        2.18\n",
            "3592      1440         2  Canned Soda        [Diet Coke]        2.18\n",
            "3866      1550         2  Canned Soda     [Mountain Dew]        2.18\n"
          ]
        }
      ]
    },
    {
      "cell_type": "code",
      "metadata": {
        "colab": {
          "base_uri": "https://localhost:8080/"
        },
        "id": "NRGEKwvJLIWn",
        "outputId": "c5cc7a5e-bd09-46ae-91da-a1d41d948713"
      },
      "source": [
        "# get the count of orders\n",
        "print('There were ' + str(len(cs)) + \" times that Canned Soda was ordered more than 1\")"
      ],
      "execution_count": 32,
      "outputs": [
        {
          "output_type": "stream",
          "name": "stdout",
          "text": [
            "There were 20 times that Canned Soda was ordered more than 1\n"
          ]
        }
      ]
    }
  ]
}